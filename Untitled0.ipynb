{
  "nbformat": 4,
  "nbformat_minor": 0,
  "metadata": {
    "colab": {
      "provenance": [],
      "authorship_tag": "ABX9TyNuX75/usi1o6onHkPgS3jQ",
      "include_colab_link": true
    },
    "kernelspec": {
      "name": "python3",
      "display_name": "Python 3"
    },
    "language_info": {
      "name": "python"
    }
  },
  "cells": [
    {
      "cell_type": "markdown",
      "metadata": {
        "id": "view-in-github",
        "colab_type": "text"
      },
      "source": [
        "<a href=\"https://colab.research.google.com/github/ahsanwahab/secure-authentication-system-/blob/main/Untitled0.ipynb\" target=\"_parent\"><img src=\"https://colab.research.google.com/assets/colab-badge.svg\" alt=\"Open In Colab\"/></a>"
      ]
    },
    {
      "cell_type": "code",
      "execution_count": 1,
      "metadata": {
        "colab": {
          "base_uri": "https://localhost:8080/"
        },
        "id": "kSvvc0GtDGbl",
        "outputId": "e959e601-4e9e-4fe5-94ef-bc6cf93388bc"
      },
      "outputs": [
        {
          "output_type": "stream",
          "name": "stdout",
          "text": [
            "Average of list:  450.86\n"
          ]
        }
      ],
      "source": [
        "num_list = [1, 999, 2, 1023, 223, 876, 32]\n",
        "\n",
        "average = sum(num_list)/len(num_list)\n",
        "\n",
        "print(\"Average of list: \", round(average,2))"
      ]
    }
  ]
}